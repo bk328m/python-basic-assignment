{
 "cells": [
  {
   "cell_type": "markdown",
   "id": "0caf04d4",
   "metadata": {},
   "source": [
    "# 1. In the below elements which of them are values or an expression? eg:- values can be integer or string and expressions will be mathematical operators.\n",
    "*\n",
    "'hello'\n",
    "-87.8\n",
    "-\n",
    "/\n",
    "+\n",
    "6"
   ]
  },
  {
   "cell_type": "markdown",
   "id": "5fde1db2",
   "metadata": {},
   "source": [
    "ans-  *,-,/,+ ------> these all are expression\n",
    "\n",
    "'hello',-87.8,6 -----> these all are values"
   ]
  },
  {
   "cell_type": "raw",
   "id": "37e0af10",
   "metadata": {},
   "source": []
  },
  {
   "cell_type": "markdown",
   "id": "98dea283",
   "metadata": {},
   "source": [
    "# 2. What is the difference between string and variable"
   ]
  },
  {
   "cell_type": "markdown",
   "id": "3f03ffb4",
   "metadata": {},
   "source": [
    "Ans. a variable is a place where you can store information.\n",
    "like a=10, b=\"boy\" etc here a and b is a variable which has stored a data in it.\n",
    "a string is a type of information which you store in a variable.\n",
    "like 'bhavesh','loksesh' etc"
   ]
  },
  {
   "cell_type": "markdown",
   "id": "c732a85d",
   "metadata": {},
   "source": [
    "# 3. Describe three different data types."
   ]
  },
  {
   "cell_type": "markdown",
   "id": "8dbf16e9",
   "metadata": {},
   "source": [
    "Ans. integer(int)- it stores only numeric values. eg- 10,20 etc\n",
    "string(str)- it stores only string values. eg- \"dad\",\"sad\" etc\n",
    "boolean(bool)- it stores only boolean value. eg- True,False"
   ]
  },
  {
   "cell_type": "markdown",
   "id": "6fe6aa3f",
   "metadata": {},
   "source": [
    "# 4. What is an expression made up of? What do all expressions do?"
   ]
  },
  {
   "cell_type": "markdown",
   "id": "399aecca",
   "metadata": {},
   "source": [
    "Ans. An expression is a combination of operators, constants and variables. All expressions are used to evaluate the values (that is, reduce) to a single value."
   ]
  },
  {
   "cell_type": "markdown",
   "id": "7fa7ca43",
   "metadata": {},
   "source": [
    "# 5. This assignment statements, like spam = 10. What is the difference between an expression and a statement?"
   ]
  },
  {
   "cell_type": "markdown",
   "id": "d8a73f6a",
   "metadata": {},
   "source": [
    "ans. An expression is a combination of operators, constants and variables which is used to evaluate to get some value.\n",
    "eg. 2+3, 2==2\n",
    "\n",
    "a statement is a code line that a python interpreter executes like print or a=2.Means, in statement, it is not necessary that a statements results in a value.\n"
   ]
  },
  {
   "cell_type": "markdown",
   "id": "a9c025c1",
   "metadata": {},
   "source": [
    "# 6. After running the following code, what does the variable bacon contain?\n",
    "bacon = 22\n",
    "bacon + 1"
   ]
  },
  {
   "cell_type": "markdown",
   "id": "2dec30a6",
   "metadata": {},
   "source": [
    "ans. In this one variable bacon contains 22 only. The bacon + 1 expression doesn't reassign the value in bacon (that would need an assignment statement: bacon = bacon + 1)"
   ]
  },
  {
   "cell_type": "markdown",
   "id": "4c6ea8db",
   "metadata": {},
   "source": [
    "# 7. What should the values of the following two terms be?\n",
    "'spam' + 'spamspam'\n",
    "'spam' * 3"
   ]
  },
  {
   "cell_type": "markdown",
   "id": "94755bf6",
   "metadata": {},
   "source": [
    "ans. Both will return same string value 'spamspamspam'"
   ]
  },
  {
   "cell_type": "markdown",
   "id": "ceec2e5a",
   "metadata": {},
   "source": [
    "# 8. Why is eggs a valid variable name while 100 is invalid?"
   ]
  },
  {
   "cell_type": "markdown",
   "id": "703278a1",
   "metadata": {},
   "source": [
    "Ans. 100 is invalid because Variable names cannot begin with a number."
   ]
  },
  {
   "cell_type": "markdown",
   "id": "a22b1678",
   "metadata": {},
   "source": [
    "# 9. What three functions can be used to get the integer, floating-point number, or string version of a value?"
   ]
  },
  {
   "cell_type": "markdown",
   "id": "84b65b0e",
   "metadata": {},
   "source": [
    "Ans. int(), float(), and str() functions can be used to get the integer, floating-point number, or string\n",
    "version of a value."
   ]
  },
  {
   "cell_type": "markdown",
   "id": "42173d5f",
   "metadata": {},
   "source": [
    "# 10. Why does this expression cause an error? How can you fix it?\n",
    "'I have eaten' + 99 + 'burritos.'"
   ]
  },
  {
   "cell_type": "markdown",
   "id": "068b7c2d",
   "metadata": {},
   "source": [
    "Ans. This expression will cause an error because 99 is an integer.As only string values can be concatenate with other string values using + operator.we can fix it by typecating 99 to string.Eg. 'I have eaten' + '99' + 'burritos.' or 'I have eaten' + str(99) + 'burritos.'."
   ]
  },
  {
   "cell_type": "code",
   "execution_count": null,
   "id": "3db46cc2",
   "metadata": {},
   "outputs": [],
   "source": []
  }
 ],
 "metadata": {
  "kernelspec": {
   "display_name": "Python 3 (ipykernel)",
   "language": "python",
   "name": "python3"
  },
  "language_info": {
   "codemirror_mode": {
    "name": "ipython",
    "version": 3
   },
   "file_extension": ".py",
   "mimetype": "text/x-python",
   "name": "python",
   "nbconvert_exporter": "python",
   "pygments_lexer": "ipython3",
   "version": "3.9.7"
  }
 },
 "nbformat": 4,
 "nbformat_minor": 5
}
